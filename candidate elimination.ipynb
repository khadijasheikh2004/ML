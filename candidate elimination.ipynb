{
  "cells": [
    {
      "cell_type": "code",
      "execution_count": 4,
      "metadata": {
        "colab": {
          "base_uri": "https://localhost:8080/"
        },
        "id": "9yyfCV7Y6kJv",
        "outputId": "cc5ec171-f18e-4ccc-a93b-699f6ffe091e"
      },
      "outputs": [
        {
          "name": "stdout",
          "output_type": "stream",
          "text": [
            "Specific Hypothesis (S): ['?', '?', '?']\n",
            "General Hypothesis (G): []\n"
          ]
        }
      ],
      "source": [
        "import numpy as np\n",
        "import pandas as pd\n",
        "\n",
        "# Load dataset from Excel file\n",
        "file_path = \"books_data-Final.xlsx\"\n",
        "df = pd.read_excel(file_path, usecols=[0, 1, 2, 3], names=[\"Title\", \"Author\", \"Year\", \"Language\"])\n",
        "\n",
        "# Candidate-Elimination Algorithm\n",
        "def candidate_elimination(training_data):\n",
        "    S = [\"?\"] * (len(training_data[0]) - 1)  # Most specific hypothesis\n",
        "    G = [[\"?\"] * (len(training_data[0]) - 1) for _ in range(len(training_data[0]) - 1)]  # Most general hypothesis\n",
        "\n",
        "    for example in training_data:\n",
        "        if example[-1] == \"English\":  # Positive example\n",
        "            for i in range(len(example) - 1):\n",
        "                if S[i] == \"?\":\n",
        "                    S[i] = example[i]\n",
        "                elif S[i] != example[i]:\n",
        "                    S[i] = \"?\"\n",
        "\n",
        "            for i in range(len(G)):\n",
        "                if G[i] != [\"?\"] * (len(example) - 1):\n",
        "                    if S[i] != \"?\":\n",
        "                        G[i] = S[:]\n",
        "        else:  # Negative example\n",
        "            for i in range(len(example) - 1):\n",
        "                if S[i] != \"?\" and S[i] != example[i]:\n",
        "                    G[i][i] = S[i]\n",
        "\n",
        "    # Remove redundant general hypotheses\n",
        "    G = [h for h in G if h != [\"?\"] * (len(training_data[0]) - 1)]\n",
        "    return S, G\n",
        "\n",
        "S, G = candidate_elimination(df.values)\n",
        "\n",
        "# Output the hypotheses\n",
        "print(\"Specific Hypothesis (S):\", S)\n",
        "print(\"General Hypothesis (G):\", G)\n"
      ]
    }
  ],
  "metadata": {
    "colab": {
      "provenance": []
    },
    "kernelspec": {
      "display_name": "Python 3",
      "name": "python3"
    },
    "language_info": {
      "name": "python"
    }
  },
  "nbformat": 4,
  "nbformat_minor": 0
}
