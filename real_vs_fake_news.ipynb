{
  "cells": [
    {
      "cell_type": "code",
      "execution_count": null,
      "id": "337413da",
      "metadata": {
        "id": "337413da"
      },
      "outputs": [],
      "source": [
        "# 15/06/25\n",
        "# CSC354 - Assignment4 - ML\n",
        "# Khadija Sheikh, Hamna Asghar\n",
        "# FA22-BCS-095, 120\n",
        "# Using ML algorithms to classify real vs. fake news\n",
        "\n",
        "import pandas as pd\n",
        "import numpy as np\n",
        "import re\n",
        "from sklearn.preprocessing import LabelEncoder\n",
        "\n",
        "# Load data\n",
        "with open('True.csv', 'r', encoding='utf-8') as f:\n",
        "    real_news = f.readlines()\n",
        "with open('Fake.csv', 'r', encoding='utf-8') as f:\n",
        "    fake_news = f.readlines()\n",
        "\n",
        "# Create labels\n",
        "texts = real_news + fake_news\n",
        "labels = ['real'] * len(real_news) + ['fake'] * len(fake_news)\n",
        "\n",
        "df = pd.DataFrame({'text': texts, 'label': labels})\n",
        "df['text'] = df['text'].str.lower().str.replace(r'[^a-z\\s]', '', regex=True).str.strip()\n",
        "\n",
        "le = LabelEncoder()\n",
        "df['label'] = le.fit_transform(df['label']) # real: 1, fake: 0"
      ]
    },
    {
      "cell_type": "code",
      "execution_count": null,
      "id": "2ce8560e",
      "metadata": {
        "id": "2ce8560e"
      },
      "outputs": [],
      "source": [
        "from sklearn.feature_extraction.text import TfidfVectorizer\n",
        "from sklearn.decomposition import PCA\n",
        "\n",
        "# TF-IDF Vectorization\n",
        "vectorizer = TfidfVectorizer(max_features=1000)\n",
        "X = vectorizer.fit_transform(df['text']).toarray()\n",
        "y = df['label']\n",
        "\n",
        "# Apply PCA to 2 components\n",
        "pca = PCA(n_components=2)\n",
        "X_pca = pca.fit_transform(X)"
      ]
    },
    {
      "cell_type": "code",
      "execution_count": null,
      "id": "b83a4819",
      "metadata": {
        "id": "b83a4819"
      },
      "outputs": [],
      "source": [
        "# Evaluation function\n",
        "from sklearn.model_selection import train_test_split, GridSearchCV, cross_val_score, KFold, StratifiedKFold\n",
        "from sklearn.metrics import accuracy_score, f1_score\n",
        "\n",
        "def evaluate_model(name, model, X, y):\n",
        "    print(f\"\\n{name} Evaluation:\")\n",
        "\n",
        "    # 70/30 Random Split\n",
        "    X_train, X_test, y_train, y_test = train_test_split(X, y, test_size=0.3, random_state=42)\n",
        "    model.fit(X_train, y_train)\n",
        "    y_pred = model.predict(X_test)\n",
        "    print(\"70/30 Random Split Accuracy:\", accuracy_score(y_test, y_pred))\n",
        "    print(\"70/30 Random Split F1 Score:\", f1_score(y_test, y_pred))\n",
        "\n",
        "    # 70/30 Stratified Split\n",
        "    X_train_s, X_test_s, y_train_s, y_test_s = train_test_split(X, y, test_size=0.3, stratify=y, random_state=42)\n",
        "    model.fit(X_train_s, y_train_s)\n",
        "    y_pred_s = model.predict(X_test_s)\n",
        "    print(\"\\n70/30 Stratified Split Accuracy:\", accuracy_score(y_test_s, y_pred_s))\n",
        "    print(\"70/30 Stratified Split F1 Score:\", f1_score(y_test_s, y_pred_s))\n",
        "\n",
        "    # 10-fold Random CV\n",
        "    random_cv = KFold(n_splits=10, shuffle=True, random_state=42)\n",
        "    acc_random = cross_val_score(model, X, y, cv=random_cv, scoring='accuracy').mean()\n",
        "    f1_random = cross_val_score(model, X, y, cv=random_cv, scoring='f1').mean()\n",
        "    print(\"\\n10-fold Random CV Accuracy:\", acc_random)\n",
        "    print(\"10-fold Random CV F1 Score:\", f1_random)\n",
        "\n",
        "    # 10-fold Stratified CV\n",
        "    strat_cv = StratifiedKFold(n_splits=10, shuffle=True, random_state=42)\n",
        "    acc_strat = cross_val_score(model, X, y, cv=strat_cv, scoring='accuracy').mean()\n",
        "    f1_strat = cross_val_score(model, X, y, cv=strat_cv, scoring='f1').mean()\n",
        "    print(\"\\n10-fold Stratified CV Accuracy:\", acc_strat)\n",
        "    print(\"10-fold Stratified CV F1 Score:\", f1_strat)"
      ]
    },
    {
      "cell_type": "code",
      "execution_count": null,
      "id": "fadfd6b1",
      "metadata": {
        "colab": {
          "base_uri": "https://localhost:8080/"
        },
        "id": "fadfd6b1",
        "outputId": "c7f54725-8e34-41ed-d3db-e213ee920c6a"
      },
      "outputs": [
        {
          "output_type": "stream",
          "name": "stdout",
          "text": [
            "\n",
            "Simple (Gaussian) NB Evaluation:\n",
            "70/30 Random Split Accuracy: 0.8056647141691999\n",
            "70/30 Random Split F1 Score: 0.8060099178447191\n",
            "\n",
            "70/30 Stratified Split Accuracy: 0.801215985764069\n",
            "70/30 Stratified Split F1 Score: 0.8012454592631033\n",
            "\n",
            "10-fold Random CV Accuracy: 0.8038748471017619\n",
            "10-fold Random CV F1 Score: 0.8032933795347349\n",
            "\n",
            "10-fold Stratified CV Accuracy: 0.8039194795324184\n",
            "10-fold Stratified CV F1 Score: 0.803461185195079\n",
            "\n",
            "\n",
            "Multinomial NB Evaluation:\n",
            "70/30 Random Split Accuracy: 0.9330466375027805\n",
            "70/30 Random Split F1 Score: 0.930490339465784\n",
            "\n",
            "70/30 Stratified Split Accuracy: 0.9309705642470527\n",
            "70/30 Stratified Split F1 Score: 0.9279355987305519\n",
            "\n",
            "10-fold Random CV Accuracy: 0.9321335044078236\n",
            "10-fold Random CV F1 Score: 0.9290709043807818\n",
            "\n",
            "10-fold Stratified CV Accuracy: 0.9320001909990934\n",
            "10-fold Stratified CV F1 Score: 0.9289421120803436\n",
            "\n",
            "\n",
            "Bernoulli NB Evaluation:\n",
            "70/30 Random Split Accuracy: 0.9508415511233039\n",
            "70/30 Random Split F1 Score: 0.9496926929205555\n",
            "\n",
            "70/30 Stratified Split Accuracy: 0.9523986060650997\n",
            "70/30 Stratified Split F1 Score: 0.9509474327628362\n",
            "\n",
            "10-fold Random CV Accuracy: 0.9505738533126962\n",
            "10-fold Random CV F1 Score: 0.9490409799440546\n",
            "\n",
            "10-fold Stratified CV Accuracy: 0.9503960905553421\n",
            "10-fold Stratified CV F1 Score: 0.9488684914132843\n"
          ]
        }
      ],
      "source": [
        "# Evaluate Naïve Bayes Models\n",
        "from sklearn.naive_bayes import GaussianNB, MultinomialNB, BernoulliNB\n",
        "\n",
        "evaluate_model(\"Simple (Gaussian) NB\", GaussianNB(), X_pca, y)\n",
        "evaluate_model(\"\\nMultinomial NB\", MultinomialNB(), X, y)\n",
        "evaluate_model(\"\\nBernoulli NB\", BernoulliNB(), X, y)"
      ]
    },
    {
      "cell_type": "code",
      "execution_count": null,
      "id": "3e57ed09",
      "metadata": {
        "id": "3e57ed09",
        "colab": {
          "base_uri": "https://localhost:8080/"
        },
        "outputId": "aa73486d-d257-4e70-b685-c71c63e464ef"
      },
      "outputs": [
        {
          "output_type": "stream",
          "name": "stdout",
          "text": [
            "Best NN Parameters: {'activation': 'relu', 'hidden_layer_sizes': (100,), 'learning_rate_init': 0.01, 'solver': 'adam'}\n"
          ]
        }
      ],
      "source": [
        "# Neural Network using Backpropagation\n",
        "from sklearn.neural_network import MLPClassifier\n",
        "\n",
        "param_grid = {\n",
        "    'hidden_layer_sizes': [(50,), (100,), (50, 50)],\n",
        "    'activation': ['relu', 'tanh'],\n",
        "    'solver': ['adam'],\n",
        "    'learning_rate_init': [0.001, 0.01]\n",
        "}\n",
        "mlp = MLPClassifier(max_iter=500, random_state=42)\n",
        "grid_nn = GridSearchCV(mlp, param_grid, cv=5, scoring='f1', n_jobs=-1)\n",
        "grid_nn.fit(X, y)\n",
        "best_nn = grid_nn.best_estimator_\n",
        "print(\"Best NN Parameters:\", grid_nn.best_params_)"
      ]
    },
    {
      "cell_type": "code",
      "execution_count": null,
      "id": "effe48e5",
      "metadata": {
        "colab": {
          "base_uri": "https://localhost:8080/"
        },
        "id": "effe48e5",
        "outputId": "5b2d12e1-64ca-44a5-f430-22a465340ce2"
      },
      "outputs": [
        {
          "output_type": "stream",
          "name": "stdout",
          "text": [
            "\n",
            "Neural Network Evaluation:\n",
            "70/30 Random Split Accuracy: 0.8122636613034774\n",
            "70/30 Random Split F1 Score: 0.7970177970177971\n",
            "\n",
            "70/30 Stratified Split Accuracy: 0.8151553347668125\n",
            "70/30 Stratified Split F1 Score: 0.8013387520918002\n",
            "\n",
            "10-fold Random CV Accuracy: 0.8162203258662254\n",
            "10-fold Random CV F1 Score: 0.8014992644510281\n",
            "\n",
            "10-fold Stratified CV Accuracy: 0.81690996619415\n",
            "10-fold Stratified CV F1 Score: 0.8043560735597624\n"
          ]
        }
      ],
      "source": [
        "# Evaluate Neural Network\n",
        "evaluate_model(\"Neural Network\", best_nn, X_pca, y)"
      ]
    },
    {
      "cell_type": "code",
      "execution_count": null,
      "id": "9dcc184d",
      "metadata": {
        "colab": {
          "base_uri": "https://localhost:8080/"
        },
        "id": "9dcc184d",
        "outputId": "66e60f0f-22f4-48a7-d70f-7cd7f780f750"
      },
      "outputs": [
        {
          "output_type": "stream",
          "name": "stdout",
          "text": [
            "\n",
            "SVM Linear Evaluation:\n",
            "70/30 Random Split Accuracy: 0.8063320234299696\n",
            "70/30 Random Split F1 Score: 0.7996932515337424\n",
            "\n",
            "70/30 Stratified Split Accuracy: 0.804700823014755\n",
            "70/30 Stratified Split F1 Score: 0.7974780870367523\n",
            "\n",
            "10-fold Random CV Accuracy: 0.8074116109635459\n",
            "10-fold Random CV F1 Score: 0.7994530437607297\n",
            "\n",
            "10-fold Stratified CV Accuracy: 0.8073449443628548\n",
            "10-fold Stratified CV F1 Score: 0.7994278520211573\n",
            "\n",
            "\n",
            "SVM RBF Evaluation:\n",
            "70/30 Random Split Accuracy: 0.8165640987617706\n",
            "70/30 Random Split F1 Score: 0.804797222660565\n",
            "\n",
            "70/30 Stratified Split Accuracy: 0.8155260621339068\n",
            "70/30 Stratified Split F1 Score: 0.8031956968834045\n",
            "\n",
            "10-fold Random CV Accuracy: 0.817754998634307\n",
            "10-fold Random CV F1 Score: 0.805051174103502\n",
            "\n",
            "10-fold Stratified CV Accuracy: 0.8175772457732791\n",
            "10-fold Stratified CV F1 Score: 0.8048993757991235\n"
          ]
        }
      ],
      "source": [
        "# Evaluate SVM Models\n",
        "from sklearn.svm import SVC\n",
        "\n",
        "evaluate_model(\"SVM Linear\", SVC(kernel='linear'), X_pca, y)\n",
        "evaluate_model(\"\\nSVM RBF\", SVC(kernel='rbf'), X_pca, y)"
      ]
    }
  ],
  "metadata": {
    "colab": {
      "provenance": []
    },
    "kernelspec": {
      "display_name": "Python 3",
      "name": "python3"
    },
    "language_info": {
      "name": "python"
    }
  },
  "nbformat": 4,
  "nbformat_minor": 5
}