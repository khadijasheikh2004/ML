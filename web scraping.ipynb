{
  "nbformat": 4,
  "nbformat_minor": 0,
  "metadata": {
    "colab": {
      "provenance": []
    },
    "kernelspec": {
      "name": "python3",
      "display_name": "Python 3"
    },
    "language_info": {
      "name": "python"
    }
  },
  "cells": [
    {
      "cell_type": "code",
      "source": [
        "# 28/05/2025\n",
        "# CSC354 – Assignment1 – ML – Concept Learning\n",
        "# Hamna Asghar, Khadija Sheikh\n",
        "# FA22-BCS-120, 095\n",
        "# This task extracts the table from the given url and then seperates the English and Spanish Language books\n",
        "\n",
        "import requests\n",
        "from bs4 import BeautifulSoup\n",
        "import pandas as pd\n",
        "\n",
        "# Fetch the main URL HTML Code\n",
        "url = \"https://en.wikipedia.org/wiki/Le_Monde%27s_100_Books_of_the_Century\"\n",
        "response = requests.get(url)\n",
        "\n",
        "# Feed the HTML to BeautifulSoup\n",
        "soup = BeautifulSoup(response.text, \"html.parser\")\n",
        "\n",
        "# Extract the table containing the books\n",
        "table = soup.find(\"table\",{\"class\":\"wikitable sortable\"})\n",
        "rows = table.find_all(\"tr\")[1:]\n",
        "\n",
        "books_data=[]\n",
        "\n",
        "for row in rows:\n",
        "  cols = row.find_all(\"td\")\n",
        "  if len(cols) < 5:\n",
        "    continue\n",
        "  title = cols[1].text.strip()\n",
        "  author = cols[2].text.strip()\n",
        "  year = cols[3].text.strip()\n",
        "  language = cols[4].text.strip()\n",
        "\n",
        "  if \"English\" in language or \"Spanish\" in language:\n",
        "    books_data.append({\n",
        "        \"Title\":title,\n",
        "        \"Author\":author,\n",
        "        \"Publishing Year\": year,\n",
        "        \"Language\": language\n",
        "    })\n",
        "\n",
        "# Store data in structured format\n",
        "df = pd.DataFrame(books_data)\n",
        "\n",
        "# Save to CSV file\n",
        "df.to_csv(\"books_data.csv\",index=False)\n",
        "print(\"Data saved to books_data.csv\")"
      ],
      "metadata": {
        "colab": {
          "base_uri": "https://localhost:8080/"
        },
        "id": "vvt2oizBqyYq",
        "outputId": "eeeb6d8b-1e4b-495f-932f-562392619c1f"
      },
      "execution_count": 13,
      "outputs": [
        {
          "output_type": "stream",
          "name": "stdout",
          "text": [
            "Data saved to books_data.csv\n"
          ]
        }
      ]
    }
  ]
}